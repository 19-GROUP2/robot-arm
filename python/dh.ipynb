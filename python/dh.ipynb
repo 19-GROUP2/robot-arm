{
 "cells": [
  {
   "cell_type": "code",
   "execution_count": 6,
   "metadata": {},
   "outputs": [],
   "source": [
    "# imports\n",
    "import numpy as np\n",
    "\n",
    "# define fixed parameters, from measurement\n",
    "a1,a2,a3,a4=(40,20,30,10)\n",
    "d1=25\n",
    "beta1,beta2,beta3,beta4=np.radians((45,110,250,300))\n",
    "theta1, theta2, theta3, theta4 = np.radians((0, 0, 0, 0))\n",
    "\n",
    "# DH table\n",
    "a=np.array([a1*np.cos(beta1),\n",
    "            a2,\n",
    "            a3,\n",
    "            a4])\n",
    "\n",
    "alpha=np.array([np.pi/2,\n",
    "                0,\n",
    "                0,\n",
    "                0])\n",
    "\n",
    "d=np.array([d1,\n",
    "            0,\n",
    "            0,\n",
    "            0])\n",
    "\n",
    "theta=np.array([theta1,\n",
    "                beta2+theta2,\n",
    "                beta3+theta3,\n",
    "                beta4+theta4])\n",
    "\n",
    "# Homogeneous transformation matrices\n",
    "def get_homogenous_matrix(i):\n",
    "    i-=1\n",
    "    ct=np.cos(theta[i])\n",
    "    st=np.sin(theta[i])\n",
    "    ca=np.cos(alpha[i])\n",
    "    sa=np.sin(alpha[i])\n",
    "    return np.array([\n",
    "        [ct, -st*ca, st*sa, a[i]*ct],\n",
    "        [st, ct*ca, -ct*sa, a[i]*st],\n",
    "        [0, sa, ca, d[i]],\n",
    "        [0, 0, 0, 1]\n",
    "    ])\n",
    "\n",
    "\n",
    "\n",
    "\n",
    "    \n",
    "    \n",
    "\n",
    "\n"
   ]
  }
 ],
 "metadata": {
  "kernelspec": {
   "display_name": "Python 3",
   "language": "python",
   "name": "python3"
  },
  "language_info": {
   "codemirror_mode": {
    "name": "ipython",
    "version": 3
   },
   "file_extension": ".py",
   "mimetype": "text/x-python",
   "name": "python",
   "nbconvert_exporter": "python",
   "pygments_lexer": "ipython3",
   "version": "3.10.0"
  }
 },
 "nbformat": 4,
 "nbformat_minor": 2
}
